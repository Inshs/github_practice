{
 "cells": [
  {
   "cell_type": "code",
   "execution_count": 2,
   "id": "b81fd66b-ed4b-4073-940b-4d1a958bb387",
   "metadata": {},
   "outputs": [
    {
     "name": "stdout",
     "output_type": "stream",
     "text": [
      "HELLOWORLD\n"
     ]
    }
   ],
   "source": [
    "print(\"HELLOWORLD\")"
   ]
  },
  {
   "cell_type": "code",
   "execution_count": null,
   "id": "56749e09-b686-4670-86bc-76436531e146",
   "metadata": {},
   "outputs": [],
   "source": [
    "import turtle\n",
    "\n",
    "t = turtle.Turtle()\n",
    "t.shape(\"Turtle\")\n",
    "\n",
    "turtle.mainloop()\n",
    "turtle.bye()"
   ]
  },
  {
   "cell_type": "code",
   "execution_count": 13,
   "id": "86c45505-06a6-421b-a819-59d567b67c6d",
   "metadata": {},
   "outputs": [
    {
     "name": "stdin",
     "output_type": "stream",
     "text": [
      "정수를 입력하세요:  1234\n"
     ]
    },
    {
     "name": "stdout",
     "output_type": "stream",
     "text": [
      "1\n",
      "2\n",
      "3\n",
      "4\n",
      "10\n"
     ]
    }
   ],
   "source": [
    "num = int(input(\"정수를 입력하세요: \"))\n",
    "\n",
    "\n",
    "a = num // 1000\n",
    "print(a)\n",
    "b = num % 1000\n",
    "b2 = b // 100\n",
    "print(b2)\n",
    "c = num % 100\n",
    "c2 = c // 10\n",
    "print(c2)\n",
    "d = num % 10\n",
    "d2 = d // 1\n",
    "print(d2)\n",
    "sum = a + b2 + c2 + d2\n",
    "print(sum)\n"
   ]
  },
  {
   "cell_type": "code",
   "execution_count": 17,
   "id": "7f4a8551-78e4-4ec1-b1cf-0d9f6642d83f",
   "metadata": {},
   "outputs": [
    {
     "name": "stdout",
     "output_type": "stream",
     "text": [
      "97\n"
     ]
    }
   ],
   "source": [
    "import random\n",
    "\n",
    "num = random.randint(1,100)\n",
    "print(num)"
   ]
  },
  {
   "cell_type": "code",
   "execution_count": 20,
   "id": "220ec761-d623-4a4f-b967-b6af7cba8212",
   "metadata": {},
   "outputs": [
    {
     "name": "stdin",
     "output_type": "stream",
     "text": [
      "83 + 74 =  153\n"
     ]
    },
    {
     "name": "stdout",
     "output_type": "stream",
     "text": [
      "False\n"
     ]
    }
   ],
   "source": [
    "import random\n",
    "x = random.randint(1, 100)\n",
    "y = random.randint(1, 100)\n",
    "answer = int(input(f\"{x} + {y} = \"))\n",
    "# 부울 변수에 결과를 저장하고 출력한다. \n",
    "flag = (answer == (x+y))\n",
    "print(flag)"
   ]
  },
  {
   "cell_type": "code",
   "execution_count": 22,
   "id": "f50b3a5c-ce48-45f3-9527-c34f88c42d28",
   "metadata": {},
   "outputs": [
    {
     "name": "stdin",
     "output_type": "stream",
     "text": [
      "첫번째 수:  1\n",
      "두번째 수:  5\n"
     ]
    },
    {
     "name": "stdout",
     "output_type": "stream",
     "text": [
      "5\n"
     ]
    }
   ],
   "source": [
    "x = int(input(\"첫번째 수: \"))\n",
    "y = int(input(\"두번째 수: \"))\n",
    "\n",
    "max = x if x > y else y\n",
    "\n",
    "print(max)"
   ]
  },
  {
   "cell_type": "code",
   "execution_count": 32,
   "id": "b5af1fb9-8123-4395-a6b5-471a0827f3dc",
   "metadata": {},
   "outputs": [
    {
     "name": "stdin",
     "output_type": "stream",
     "text": [
      "선택하시오(1:가위,2:바위,3:보) 1\n"
     ]
    },
    {
     "name": "stdout",
     "output_type": "stream",
     "text": [
      "컴퓨터의 선택(1:가위,2:바위,3:보) 3\n",
      "내가 이겼음\n"
     ]
    }
   ],
   "source": [
    "import random\n",
    "\n",
    "mes = int(input(\"선택하시오(1:가위,2:바위,3:보)\"))\n",
    "coms = random.randint(1,3)\n",
    "print(\"컴퓨터의 선택(1:가위,2:바위,3:보)\",coms)\n",
    "\n",
    "if mes == coms:\n",
    "    print(\"비겼음\")\n",
    "elif mes == 1:\n",
    "    if coms == 2:\n",
    "        print(\"컴퓨터가 이겼음\")\n",
    "    elif coms == 3:\n",
    "        print(\"내가 이겼음\")\n",
    "elif mes == 2:\n",
    "    if coms == 1:\n",
    "        print(\"내가 이겼음\")\n",
    "    elif coms == 3:\n",
    "        print(\"컴퓨터가 이겼음\")\n",
    "elif mes == 3:\n",
    "    if coms == 1:\n",
    "        print(\"컴퓨터가 이겼음\")\n",
    "    elif coms == 2:\n",
    "        print(\"내가 이겼음\")\n",
    "else:\n",
    "    print(\"비겼음\")"
   ]
  },
  {
   "cell_type": "code",
   "execution_count": 37,
   "id": "c654ccca-3d1b-4e14-8b86-274391fad588",
   "metadata": {},
   "outputs": [
    {
     "name": "stdout",
     "output_type": "stream",
     "text": [
      "2 3 5 7 11 13 17 19 23 29 31 37 41 43 47 53 59 61 67 71 73 79 83 89 97 101 103 107 109 113 127 131 137 139 149 151 157 163 167 173 179 181 191 193 197 199 211 223 227 229 "
     ]
    }
   ],
   "source": [
    "N_PRIMES = 50 # 찾아야 하는 소수의 개수\n",
    "number = 2 # 2부터 시작한다.\n",
    "count = 0\n",
    "\n",
    "while count < N_PRIMES :\n",
    "    divisor = 2 # 나누는 수는 2부터 시작하여 하나씩 증가한다.\n",
    "    prime = True\n",
    "    \n",
    "    while divisor < number :\n",
    "        if number % divisor == 0: # 나누어지면 소수가 아니다.\n",
    "            prime = False\n",
    "            break;\n",
    "        divisor += 1\n",
    "    if prime: # 소수이면 소수 개수를 증가하고 출력한다.\n",
    "        count += 1\n",
    "        print(number, end=\" \")\n",
    "    number += 1 # 다음 수로 간다.\n",
    "        "
   ]
  },
  {
   "cell_type": "code",
   "execution_count": 45,
   "id": "c9a8e4fb-e105-4d21-a606-fbe6a992822b",
   "metadata": {},
   "outputs": [
    {
     "name": "stdin",
     "output_type": "stream",
     "text": [
      "반복 횟수:  10000\n"
     ]
    },
    {
     "name": "stdout",
     "output_type": "stream",
     "text": [
      "pi:  3.141592653589538\n"
     ]
    }
   ],
   "source": [
    "divisor1 = 2\n",
    "divisor2 = 3\n",
    "divisor3 = 4\n",
    "divident = 4\n",
    "sum = 3.0\n",
    "count = int(input(\"반복 횟수: \"))\n",
    "while count > 0:\n",
    "    sum = sum + divident/(divisor1*divisor2*divisor3)\n",
    "    divident = divident * -1\n",
    "    divisor1 += 2\n",
    "    divisor2 += 2\n",
    "    divisor3 += 2\n",
    "    count -= 1\n",
    "print(\"pi: \",sum)\n"
   ]
  },
  {
   "cell_type": "code",
   "execution_count": 86,
   "id": "6daff012-b0fb-405d-8594-7f845c80329d",
   "metadata": {},
   "outputs": [
    {
     "name": "stdout",
     "output_type": "stream",
     "text": [
      "초기 금액 50\n",
      "목표 금액 250\n",
      "100번 중에서 14 성공\n"
     ]
    }
   ],
   "source": [
    "import random\n",
    "\n",
    "fmoney = 50\n",
    "goals = 250\n",
    "success = 0\n",
    "for i in range(100):\n",
    "    fmoney = 50\n",
    "    while fmoney > 0 and fmoney < goals:\n",
    "        com = random.randint(1,2)\n",
    "        if com == 1:\n",
    "            fmoney +=1\n",
    "        else:\n",
    "            fmoney -=1\n",
    "    if fmoney == goals:\n",
    "        success +=1\n",
    "\n",
    "print(\"초기 금액 50\")\n",
    "print(\"목표 금액 250\")\n",
    "print(\"100번 중에서\",success,\"성공\")\n",
    "      "
   ]
  },
  {
   "cell_type": "code",
   "execution_count": 15,
   "id": "c57edf41-9079-4d61-ae3b-abb21593a325",
   "metadata": {},
   "outputs": [
    {
     "name": "stdout",
     "output_type": "stream",
     "text": [
      "주급은 200000 입니다.\n"
     ]
    }
   ],
   "source": [
    "def weeklyPay(hour, rate):\n",
    "    money = 0\n",
    "    if (hour > 30):\n",
    "        money = rate*30 + (hour-30)*rate*1.5\n",
    "        return money\n",
    "    else:\n",
    "        money = rate*hour\n",
    "        return money\n",
    "\n",
    "\n",
    "print(\"주급은\" ,weeklyPay(hour = 20, rate = 10000),\"입니다.\")\n",
    "\n"
   ]
  },
  {
   "cell_type": "code",
   "execution_count": 4,
   "id": "ebe13234-7c63-47f0-a7f2-ef395e265e01",
   "metadata": {},
   "outputs": [
    {
     "data": {
      "text/plain": [
       "<function turtle.bye()>"
      ]
     },
     "execution_count": 4,
     "metadata": {},
     "output_type": "execute_result"
    }
   ],
   "source": [
    "import turtle\n",
    "t = turtle.Turtle()\n",
    "t.shape(\"turtle\")\n",
    "\n",
    "def square(length):\n",
    "    t.down()\n",
    "    for i in range(4):\n",
    "        t.forward(length)\n",
    "        t.left(90)\n",
    "    t.up()\n",
    "\n",
    "square(100);\n",
    "t.forward(200)\n",
    "square(100);\n",
    "t.forward(200)\n",
    "square(100);\n",
    "\n",
    "turtle.mainloop()\n",
    "turtle.bye"
   ]
  },
  {
   "cell_type": "code",
   "execution_count": 7,
   "id": "f3472ceb-2759-4041-8ee9-485c660031a8",
   "metadata": {},
   "outputs": [
    {
     "name": "stdout",
     "output_type": "stream",
     "text": [
      "1.섭씨 온도 -> 화씨 온도\n",
      "2.화씨 온도 -> 섭씨 온도\n",
      "3.종료\n"
     ]
    },
    {
     "name": "stdin",
     "output_type": "stream",
     "text": [
      "메뉴를 선택하세요:  1\n",
      "섭씨 온도를 입력하시오:  37.0\n"
     ]
    },
    {
     "name": "stdout",
     "output_type": "stream",
     "text": [
      "화씨 온도=  98.6\n",
      "\n",
      "\n",
      "1.섭씨 온도 -> 화씨 온도\n",
      "2.화씨 온도 -> 섭씨 온도\n",
      "3.종료\n"
     ]
    },
    {
     "name": "stdin",
     "output_type": "stream",
     "text": [
      "메뉴를 선택하세요:  2\n",
      "화씨 온도를 입력하시오:  98\n"
     ]
    },
    {
     "name": "stdout",
     "output_type": "stream",
     "text": [
      "화씨 온도=  208.4\n",
      "\n",
      "\n",
      "1.섭씨 온도 -> 화씨 온도\n",
      "2.화씨 온도 -> 섭씨 온도\n",
      "3.종료\n"
     ]
    },
    {
     "name": "stdin",
     "output_type": "stream",
     "text": [
      "메뉴를 선택하세요:  4\n"
     ]
    }
   ],
   "source": [
    "#온도 변환 프로그램\n",
    "\n",
    "def main():\n",
    "    while True:\n",
    "        print(\"1.섭씨 온도 -> 화씨 온도\")\n",
    "        print(\"2.화씨 온도 -> 섭씨 온도\")\n",
    "        print(\"3.종료\")\n",
    "        choice = int(input(\"메뉴를 선택하세요: \"))\n",
    "        if choice == 1:\n",
    "            ctem = float(input(\"섭씨 온도를 입력하시오: \"))\n",
    "            print(\"화씨 온도= \",ctof(ctem))\n",
    "            print(\"\\n\")\n",
    "        elif choice == 2:\n",
    "            ftem = float(input(\"화씨 온도를 입력하시오: \"))\n",
    "            print(\"화씨 온도= \",ctof(ftem))\n",
    "            print(\"\\n\")\n",
    "        else:\n",
    "            break\n",
    "\n",
    "\n",
    "def ctof(ctem):\n",
    "    result = ctem*9.0/5.0 + 32\n",
    "    return result\n",
    "\n",
    "def ftoc():\n",
    "    ftem = float(input(\"화씨 온도를 입력하시오: \"))\n",
    "    result = (ftem-32.0)*5.0/9.0\n",
    "    return result\n",
    "\n",
    "main()"
   ]
  },
  {
   "cell_type": "code",
   "execution_count": 9,
   "id": "de09e7c8-251a-4840-85e9-2aff168cb1d0",
   "metadata": {},
   "outputs": [
    {
     "name": "stdout",
     "output_type": "stream",
     "text": [
      "인상전 [200, 250, 300, 280, 500]\n",
      "인상후 [200, 250, 300, 280, 500]\n"
     ]
    }
   ],
   "source": [
    "salaries = [200, 250, 300, 280, 500]\n",
    "\n",
    "def modify(values, factor) :\n",
    " for e in values :\n",
    "     e = e * factor\n",
    "     \n",
    "print(\"인상전\", salaries)\n",
    "modify(salaries, 1.3)\n",
    "print(\"인상후\", salaries)"
   ]
  },
  {
   "cell_type": "code",
   "execution_count": 36,
   "id": "30577166-6d20-439b-acb3-70bead562682",
   "metadata": {},
   "outputs": [
    {
     "name": "stdout",
     "output_type": "stream",
     "text": [
      "['짝수', '홀수', '짝수', '홀수', '짝수', '홀수', '짝수', '홀수', '짝수', '홀수']\n"
     ]
    }
   ],
   "source": [
    "list = [\"짝수\" if x % 2 == 0 else \"홀수\" for x in range(10)]\n",
    "print(list)"
   ]
  },
  {
   "cell_type": "code",
   "execution_count": 37,
   "id": "09a75ed7-0740-4b2c-94cb-8ae90b856635",
   "metadata": {},
   "outputs": [
    {
     "name": "stdout",
     "output_type": "stream",
     "text": [
      "s=  [[0, 0, 0, 0, 0], [0, 0, 0, 0, 0], [0, 0, 0, 0, 0]]\n"
     ]
    }
   ],
   "source": [
    "rows = 3\n",
    "cols = 5\n",
    "\n",
    "s = []\n",
    "for row in range(rows):\n",
    "    s += [[0]*cols]\n",
    "print(\"s= \",s)"
   ]
  },
  {
   "cell_type": "code",
   "execution_count": 38,
   "id": "b7235cc5-d276-44c5-ae60-39621d6fccc8",
   "metadata": {},
   "outputs": [
    {
     "name": "stdout",
     "output_type": "stream",
     "text": [
      "s=  [[0, 0, 0, 0, 0], [0, 0, 0, 0, 0], [0, 0, 0, 0, 0]]\n"
     ]
    }
   ],
   "source": [
    "rows = 3\n",
    "cols = 5\n",
    "\n",
    "s = [([0]*cols) for row in range(rows)]\n",
    "\n",
    "print(\"s= \",s)"
   ]
  },
  {
   "cell_type": "code",
   "execution_count": 46,
   "id": "e601da1f-ef43-4172-a376-e65b8ca40e44",
   "metadata": {},
   "outputs": [
    {
     "name": "stdout",
     "output_type": "stream",
     "text": [
      "[6, 7, 8, 9, 10]\n",
      "[1, 2, 3, 4, 5]\n",
      "4\n",
      "3\n",
      "1 2 3 4 5 \n",
      "6 7 8 9 10 \n",
      "11 12 13 14 15 \n"
     ]
    }
   ],
   "source": [
    "s =[[1,2,3,4,5], [6,7,8,9,10], [11,12,13,14,15]]\n",
    "print(s[1])\n",
    "print(s[0])\n",
    "print(s[0][3])\n",
    "rows = len(s)\n",
    "print(rows)\n",
    "cols = len(s[0])\n",
    "\n",
    "for r in range(rows):\n",
    "    for c in range(cols):\n",
    "        print(s[r][c], end=\" \")\n",
    "    print()"
   ]
  },
  {
   "cell_type": "code",
   "execution_count": 5,
   "id": "15f16b52-a1cb-4d7c-8602-ab81da579024",
   "metadata": {},
   "outputs": [
    {
     "name": "stdout",
     "output_type": "stream",
     "text": [
      "원래 행렬= [[1, 2, 3], [4, 5, 6], [7, 8, 9]]\n",
      "전치 행렬= [[1, 4, 7], [2, 5, 8], [3, 6, 9]]\n"
     ]
    }
   ],
   "source": [
    "transposed =[]\n",
    "matrix = [[1,2,3],[4,5,6],[7,8,9]]\n",
    "\n",
    "print(\"원래 행렬=\", matrix)\n",
    "for i in range(len(matrix[0])):\n",
    "    trans_row=[]\n",
    "    for row in matrix:\n",
    "        trans_row.append(row[i])\n",
    "    transposed.append(trans_row)\n",
    "\n",
    "print(\"전치 행렬=\", transposed)"
   ]
  },
  {
   "cell_type": "code",
   "execution_count": 7,
   "id": "2e8a1771-91d4-4f41-9a63-aa548d5fac5e",
   "metadata": {},
   "outputs": [
    {
     "name": "stdout",
     "output_type": "stream",
     "text": [
      "원래 행렬= [[1, 2, 3], [4, 5, 6], [7, 8, 9]]\n",
      "전치 행렬= [[1, 4, 7], [2, 5, 8], [3, 6, 9]]\n"
     ]
    }
   ],
   "source": [
    "matrix = [[1,2,3],[4,5,6],[7,8,9]]\n",
    "print(\"원래 행렬=\",matrix)\n",
    "\n",
    "transposed = [[row[i] for row in matrix] for i in range(len(matrix[0]))]\n",
    "print(\"전치 행렬=\", transposed)"
   ]
  },
  {
   "cell_type": "code",
   "execution_count": 22,
   "id": "b1593a2c-1add-478b-a1ce-9a3488dfa6bb",
   "metadata": {},
   "outputs": [
    {
     "name": "stdout",
     "output_type": "stream",
     "text": [
      "  |  |  \n",
      "  |  |  \n",
      "  |  |  \n"
     ]
    },
    {
     "name": "stdin",
     "output_type": "stream",
     "text": [
      "다음 수의 x좌표를 입력하시오:  1\n",
      "다음 수의 y좌표를 입력하시오:  2\n"
     ]
    },
    {
     "name": "stdout",
     "output_type": "stream",
     "text": [
      " O|  |  \n",
      "  |  | X\n",
      "  |  |  \n"
     ]
    },
    {
     "name": "stdin",
     "output_type": "stream",
     "text": [
      "다음 수의 x좌표를 입력하시오:  4\n",
      "다음 수의 y좌표를 입력하시오:  5\n"
     ]
    },
    {
     "ename": "IndexError",
     "evalue": "list index out of range",
     "output_type": "error",
     "traceback": [
      "\u001b[1;31m---------------------------------------------------------------------------\u001b[0m",
      "\u001b[1;31mIndexError\u001b[0m                                Traceback (most recent call last)",
      "Cell \u001b[1;32mIn[22], line 12\u001b[0m\n\u001b[0;32m     10\u001b[0m y \u001b[38;5;241m=\u001b[39m \u001b[38;5;28mint\u001b[39m(\u001b[38;5;28minput\u001b[39m(\u001b[38;5;124m\"\u001b[39m\u001b[38;5;124m다음 수의 y좌표를 입력하시오: \u001b[39m\u001b[38;5;124m\"\u001b[39m))\n\u001b[0;32m     11\u001b[0m \u001b[38;5;66;03m# 사용자가 입력한 좌표를 검사한다. \u001b[39;00m\n\u001b[1;32m---> 12\u001b[0m \u001b[38;5;28;01mif\u001b[39;00m board[x][y] \u001b[38;5;241m!=\u001b[39m \u001b[38;5;124m'\u001b[39m\u001b[38;5;124m \u001b[39m\u001b[38;5;124m'\u001b[39m:\n\u001b[0;32m     13\u001b[0m     \u001b[38;5;28mprint\u001b[39m(\u001b[38;5;124m\"\u001b[39m\u001b[38;5;124m잘못된 위치입니다. \u001b[39m\u001b[38;5;124m\"\u001b[39m)\n\u001b[0;32m     14\u001b[0m     \u001b[38;5;28;01mcontinue\u001b[39;00m\n",
      "\u001b[1;31mIndexError\u001b[0m: list index out of range"
     ]
    }
   ],
   "source": [
    "board= [[' ' for x in range (3)] for y in range(3)]\n",
    "while True:\n",
    " # 게임 보드를 그린다.\n",
    " for r in range(3):\n",
    "     print(\" \" + board[r][0] + \"| \" + board[r][1] + \"| \" + board[r][2])\n",
    " if (r != 2):\n",
    "     print(\"---|---|---\")\n",
    " # 사용자로부터 좌표를 입력받는다. \n",
    " x = int(input(\"다음 수의 x좌표를 입력하시오: \"))\n",
    " y = int(input(\"다음 수의 y좌표를 입력하시오: \"))\n",
    " # 사용자가 입력한 좌표를 검사한다. \n",
    " if board[x][y] != ' ':\n",
    "     print(\"잘못된 위치입니다. \")\n",
    "     continue\n",
    " else:\n",
    "     board[x][y] = 'X'\n",
    " #컴퓨터가 놓을 위치를 결정한다. 첫 번째로 발견하는 비어있는 칸에 놓는다. \n",
    " done =False\n",
    " for i in range(3): \n",
    "    for j in range(3): \n",
    "         if board[i][j] == ' ' and not done:\n",
    "             board[i][j] = 'O';\n",
    "             done=True\n",
    "             break;\n"
   ]
  },
  {
   "cell_type": "code",
   "execution_count": 30,
   "id": "52faf088-a9f0-476c-96f6-a27944501e02",
   "metadata": {},
   "outputs": [
    {
     "name": "stdout",
     "output_type": "stream",
     "text": [
      "[1, 2, 3, 4, 5, 6]\n",
      "[1, 2, 3, 1, 2, 3]\n",
      "False\n",
      "6\n"
     ]
    }
   ],
   "source": [
    "list = [1,2,3]\n",
    "list2 = [4,5,6]\n",
    "print(list + list2)\n",
    "print(list *2)\n",
    "print(list == list2)\n",
    "print(sum(list))"
   ]
  },
  {
   "cell_type": "code",
   "execution_count": 24,
   "id": "267a5af1-18b3-4e2c-9511-a69308dd44aa",
   "metadata": {},
   "outputs": [
    {
     "name": "stdout",
     "output_type": "stream",
     "text": [
      "zz\n"
     ]
    }
   ],
   "source": [
    "list = ['xyz', 'zz', 'PQRSTUVWZ']\n",
    "print(max(list))"
   ]
  },
  {
   "cell_type": "code",
   "execution_count": 34,
   "id": "8f03deb3-a43f-4a79-bb63-19960f8f497d",
   "metadata": {},
   "outputs": [
    {
     "name": "stdout",
     "output_type": "stream",
     "text": [
      "실행전 [1, 2, 3, 4, 5, 6, 7, 8, 9, 10]\n",
      "실행후 [1, 2, -3, -4, -5, -6, -7, -8, 9, 10]\n"
     ]
    }
   ],
   "source": [
    "list = [1,2,3,4,5,6,7,8,9,10]\n",
    "print(\"실행전\", list)\n",
    "\n",
    "list2 = [-x if x >=3 and x <=8 else x for x in list]\n",
    "print(\"실행후\", list2)"
   ]
  },
  {
   "cell_type": "code",
   "execution_count": 40,
   "id": "ee37ae9a-087b-4b73-af57-dad10aa65982",
   "metadata": {},
   "outputs": [
    {
     "name": "stdout",
     "output_type": "stream",
     "text": [
      "2\n"
     ]
    }
   ],
   "source": [
    "list = ['aba', 'xyz' ,'abc','121']\n",
    "list2 = [x for x in list if x[0] == x [-1]]\n",
    "\n",
    "print(len(list2))"
   ]
  },
  {
   "cell_type": "code",
   "execution_count": 44,
   "id": "3a0d9fec-e44b-4f8c-a007-87c9d96fd275",
   "metadata": {},
   "outputs": [
    {
     "name": "stdout",
     "output_type": "stream",
     "text": [
      "4\n"
     ]
    }
   ],
   "source": [
    "import random\n",
    "a = [1,2,3,4,5]\n",
    "print(random.choice(a))"
   ]
  },
  {
   "cell_type": "code",
   "execution_count": 63,
   "id": "46f17a61-69f6-40ba-b415-80b230cd2b47",
   "metadata": {},
   "outputs": [
    {
     "name": "stdin",
     "output_type": "stream",
     "text": [
      "첫번째 문자열 qwertasdfg\n",
      "두번째 문자열 qwertas\n"
     ]
    },
    {
     "name": "stdout",
     "output_type": "stream",
     "text": [
      "{'q', 'w', 'e', 't', 'a', 's', 'r'}\n",
      "표절 의심\n"
     ]
    }
   ],
   "source": [
    "s1 = input(\"첫번째 문자열\")\n",
    "s2 = input(\"두번째 문자열\")\n",
    "\n",
    "list = (set(s1)&set(s2))\n",
    "print(list)\n",
    "set2 = set(s1).union(set(s2))\n",
    "\n",
    "if len(list)/len(set2) >= 0.7 :\n",
    "    print(\"표절 의심\")\n",
    "else:\n",
    "    print(\"표절 아님\")"
   ]
  },
  {
   "cell_type": "code",
   "execution_count": 67,
   "id": "aa295f9a-81ca-48ee-8a36-bd507d2f1bc4",
   "metadata": {},
   "outputs": [
    {
     "name": "stdin",
     "output_type": "stream",
     "text": [
      "단어를 입력하시오:  one\n"
     ]
    },
    {
     "name": "stdout",
     "output_type": "stream",
     "text": [
      "하나\n"
     ]
    },
    {
     "name": "stdin",
     "output_type": "stream",
     "text": [
      "추가할 단어를 입력하시오:  four\n",
      "단어의 뜻을 입력하시오:  넷\n"
     ]
    },
    {
     "name": "stdout",
     "output_type": "stream",
     "text": [
      "{'one': '하나', 'two': \"둘'\", 'three': '셋', 'four': '넷'}\n"
     ]
    }
   ],
   "source": [
    "english_dict ={} # 공백 딕셔너리를 생성한다. \n",
    "english_dict[\"one\"]=\"하나\" # 딕셔너리에 단어와 의미를 추가한다. \n",
    "english_dict[\"two\"]=\"둘'\"\n",
    "english_dict[\"three\"]=\"셋\"\n",
    "\n",
    "word =input(\"단어를 입력하시오: \");\n",
    "print (english_dict[word])\n",
    "\n",
    "wordeng = input(\"추가할 단어를 입력하시오: \")\n",
    "wordkor = input(\"단어의 뜻을 입력하시오: \")\n",
    "english_dict[wordeng] = wordkor\n",
    "\n",
    "print(english_dict)"
   ]
  },
  {
   "cell_type": "code",
   "execution_count": 72,
   "id": "c9e1c029-8c87-4a0b-b4bd-2ffc6aa0371b",
   "metadata": {},
   "outputs": [
    {
     "name": "stdin",
     "output_type": "stream",
     "text": [
      "학생 이름을 입력하시오:  kim\n",
      "국어성적을 입력 하시오:  99\n",
      "수학성적을 입력 하시오:  83\n",
      "영어성적을 입력 하시오:  95\n"
     ]
    },
    {
     "name": "stdout",
     "output_type": "stream",
     "text": [
      "kim 의 평균성적= 92.33333333333333\n"
     ]
    }
   ],
   "source": [
    "score_dic = {}\n",
    "\n",
    "name = input(\"학생 이름을 입력하시오: \")\n",
    "grade1 =int(input(\"국어성적을 입력 하시오: \"))\n",
    "grade2 =int(input(\"수학성적을 입력 하시오: \"))\n",
    "grade3 =int(input(\"영어성적을 입력 하시오: \"))\n",
    "\n",
    "list = []\n",
    "list.append(grade1)\n",
    "list.append(grade2)\n",
    "list.append(grade3)\n",
    "score_dic[name] = list\n",
    "\n",
    "for name, scores in score_dic.items():\n",
    " print(name,\"의 평균성적=\",sum(scores)/len(scores))\n",
    "    \n"
   ]
  },
  {
   "cell_type": "code",
   "execution_count": 78,
   "id": "385ba0d0-db63-454c-bcf7-1c6984cdf189",
   "metadata": {},
   "outputs": [
    {
     "name": "stdout",
     "output_type": "stream",
     "text": [
      "{1: 1, 2: 4, 3: 9, 4: 16, 5: 25, 6: 36, 7: 49, 8: 64, 9: 81, 10: 100}\n"
     ]
    }
   ],
   "source": [
    "dic = {x:x*x for x in range(1,11)}\n",
    "print(dic)\n"
   ]
  },
  {
   "cell_type": "code",
   "execution_count": 79,
   "id": "8d4b5df1-ae5a-453a-96c3-904235536160",
   "metadata": {},
   "outputs": [
    {
     "name": "stdin",
     "output_type": "stream",
     "text": [
      "달의 번호:  1\n"
     ]
    },
    {
     "name": "stdout",
     "output_type": "stream",
     "text": [
      "달의 번호:  J\n"
     ]
    }
   ],
   "source": [
    "mon = {1:\"J\", 2:\"F\",3:\"M\"}\n",
    "\n",
    "num = int(input(\"달의 번호: \"))\n",
    "print(\"달의 번호: \", mon[num])"
   ]
  },
  {
   "cell_type": "code",
   "execution_count": 30,
   "id": "bfc30b41-89e9-4e2b-a0e7-2dee91ac3d70",
   "metadata": {},
   "outputs": [
    {
     "name": "stdout",
     "output_type": "stream",
     "text": [
      "0\n",
      "105\n"
     ]
    }
   ],
   "source": [
    "class Counter:\n",
    "    def __init__(self, initValue=0):\n",
    "        self.count = initValue\n",
    "\n",
    "    def increment(self, i=0):\n",
    "        self.count +=i\n",
    "\n",
    "a = Counter()\n",
    "a.increment()\n",
    "b = Counter(100)\n",
    "b.increment(5)\n",
    "print(a.count)\n",
    "print(b.count)"
   ]
  },
  {
   "cell_type": "code",
   "execution_count": 15,
   "id": "6e3a9e7e-55a7-48b7-a2a8-75dbae3f2f07",
   "metadata": {},
   "outputs": [
    {
     "name": "stdout",
     "output_type": "stream",
     "text": [
      "1\n"
     ]
    }
   ],
   "source": [
    "class test:\n",
    "    i = 1\n",
    "\n",
    "a = test()\n",
    "print(a.i)"
   ]
  },
  {
   "cell_type": "code",
   "execution_count": 20,
   "id": "22d8ca99-678c-4f90-9161-555d0cf21d63",
   "metadata": {},
   "outputs": [
    {
     "name": "stdout",
     "output_type": "stream",
     "text": [
      "이 사람의 나이는 10입니다.\n",
      "이 사람의 이름은 SHIN입니다.\n",
      "이 사람의 나이는 20입니다.\n",
      "이 사람의 이름은 kim입니다.\n"
     ]
    }
   ],
   "source": [
    "class person:\n",
    "    def __init__(self,age,name):\n",
    "        # self. 을 통해서 클래스 멤버변수 선언\n",
    "        self.age = age\n",
    "        self.name = name\n",
    "        print(\"이 사람의 나이는 \" + str(self.age) + \"입니다.\")\n",
    "        print(\"이 사람의 이름은 \" + self.name + \"입니다.\")\n",
    "\n",
    "Me = person(10,\"SHIN\")\n",
    "you = person(20, \"kim\")"
   ]
  },
  {
   "cell_type": "code",
   "execution_count": 3,
   "id": "cb92aaac-3b9a-416b-93a1-e82953e39825",
   "metadata": {},
   "outputs": [
    {
     "name": "stdout",
     "output_type": "stream",
     "text": [
      "원의 넓이:  314.1592653589793\n",
      "원의 둘레:  62.83185307179586\n"
     ]
    }
   ],
   "source": [
    "import math\n",
    "\n",
    "class circle:\n",
    "    def __init__(self, radius=0):\n",
    "        self.radius = radius\n",
    "    def getArea(self):\n",
    "        return math.pi * (self.radius ** 2)\n",
    "    def getLength(self):\n",
    "        return math.pi * 2 * self.radius\n",
    "c = circle(10)\n",
    "print(\"원의 넓이: \", c.getArea())\n",
    "print(\"원의 둘레: \", c.getLength())\n",
    "        "
   ]
  },
  {
   "cell_type": "code",
   "execution_count": 5,
   "id": "80148d15-6c2d-487c-9fa3-23073ea9621e",
   "metadata": {},
   "outputs": [
    {
     "data": {
      "text/plain": [
       "'Hong'"
      ]
     },
     "execution_count": 5,
     "metadata": {},
     "output_type": "execute_result"
    }
   ],
   "source": [
    "class Student:\n",
    "    def __init__(self, name=None, age=0):\n",
    "        self.__name = name\n",
    "        self.__age = age\n",
    "\n",
    "    def getAge(self):\n",
    "        return self.__age\n",
    "\n",
    "    def getName(self):\n",
    "        return self.__name\n",
    "        \n",
    "    def setAge(self, age):\n",
    "        self.__age=age\n",
    "\n",
    "    def setName(self, name):\n",
    "        self.__name=name\n",
    "\n",
    "obj=Student(\"Hong\", 20)\n",
    "obj.getName()\n"
   ]
  },
  {
   "cell_type": "code",
   "execution_count": 65,
   "id": "439fb2aa-5d61-42c9-a77b-1966c2c67fe7",
   "metadata": {},
   "outputs": [
    {
     "name": "stdout",
     "output_type": "stream",
     "text": [
      "통장에서  100 가 출금되었음\n",
      "통장에 10 가 입금되었음\n"
     ]
    },
    {
     "data": {
      "text/plain": [
       "90"
      ]
     },
     "execution_count": 65,
     "metadata": {},
     "output_type": "execute_result"
    }
   ],
   "source": [
    "class BankAccount:\n",
    "    def __init__(self):\n",
    "        self.__balance = 0\n",
    "\n",
    "    def withdraw(self, amount):\n",
    "        self.__balance -= amount\n",
    "        print(\"통장에\", amount, \"가 입금되었음\")\n",
    "        return self.__balance\n",
    "\n",
    "    def deposit(self, amount):\n",
    "        self.__balance += amount\n",
    "        print(\"통장에서 \", amount, \"가 출금되었음\")\n",
    "        return self.__balance\n",
    "\n",
    "a = BankAccount()\n",
    "a.deposit(100)\n",
    "a.withdraw(10)"
   ]
  },
  {
   "cell_type": "code",
   "execution_count": 66,
   "id": "d4679dc4-1317-433b-a442-cbeb6182bccc",
   "metadata": {},
   "outputs": [
    {
     "name": "stdout",
     "output_type": "stream",
     "text": [
      "Bulldog\n",
      "Bulldog\n",
      "Bulldog\n",
      "Baduk\n",
      "Marry\n"
     ]
    }
   ],
   "source": [
    "class Dog:\n",
    "    kind = \"Bulldog\"\n",
    "    def __init__(self, name, age=0):\n",
    "        self.name = name\n",
    "        self.age = age\n",
    "\n",
    "a = Dog(\"Baduk\", 2)\n",
    "b = Dog(\"Marry\", 3)\n",
    "\n",
    "print(a.kind)\n",
    "print(b.kind)\n",
    "print(Dog.kind)\n",
    "\n",
    "print(a.name)\n",
    "print(b.name)"
   ]
  },
  {
   "cell_type": "code",
   "execution_count": 7,
   "id": "1370a0b8-3e9b-42cf-8d23-752a7b93bdf0",
   "metadata": {},
   "outputs": [
    {
     "name": "stdout",
     "output_type": "stream",
     "text": [
      "(1, 1)\n",
      "(0, -1)\n"
     ]
    }
   ],
   "source": [
    "class Vector2D :\n",
    "    def __init__(self, x, y):\n",
    "        self.x = x\n",
    "        self.y = y\n",
    "    def __add__(self, other):\n",
    "        return Vector2D(self.x + other.x, self.y + other.y)\n",
    "    def __sub__(self, other):\n",
    "        return Vector2D(self.x - other.x, self.y - other.y)\n",
    "    def __eq__(self, other):\n",
    "        return self.x == other.x and self.y == other.y\n",
    "    def __str__(self):\n",
    "        return '(%g, %g)' % (self.x, self.y)\n",
    "u = Vector2D(0,1)\n",
    "v = Vector2D(1,0)\n",
    "w = Vector2D(1,1)\n",
    "a = u + v\n",
    "b = v - w\n",
    "print(a)\n",
    "print(b)"
   ]
  },
  {
   "cell_type": "code",
   "execution_count": 9,
   "id": "6c38cc20-6a2e-40a8-a70d-59833c5bdd16",
   "metadata": {},
   "outputs": [
    {
     "name": "stdout",
     "output_type": "stream",
     "text": [
      "주사위의 값= 3\n"
     ]
    }
   ],
   "source": [
    "from random import randint\n",
    "\n",
    "class Dice :\n",
    "    def __init__(self, x, y) :\n",
    "        self._x = x\n",
    "        self._y= y\n",
    "        self._size = 30\n",
    "        self._value = 1\n",
    "    def read_dice(self) :\n",
    "        return self._value\n",
    "    def print_dice(self) :\n",
    "        print(\"주사위의 값=\", self._value)\n",
    "    def roll_dice(self) :\n",
    "        self._value = randint(1, 6)\n",
    "        \n",
    "d = Dice(100, 100)\n",
    "d.roll_dice()\n",
    "d.print_dice()"
   ]
  },
  {
   "cell_type": "code",
   "execution_count": null,
   "id": "6e14b5f1-7ae2-4a93-994d-5bf6a661c78e",
   "metadata": {},
   "outputs": [],
   "source": [
    "#p401 programming 5번\n",
    "\n",
    "class Triangle:\n",
    "    def __init__(self, angle1, angle2, angle3, numberOfSides=3):\n",
    "        self.angle1 = angle1\n",
    "        self.angle2 = angle2\n",
    "        self.angle3 = angle3\n",
    "        self.numberOfSides = numberOfSides\n",
    "        \n",
    "    def __str__():\n",
    "        \n",
    "\n",
    "    def getAngle1(self):\n",
    "        return self.angle1  \n",
    "    def getAngle2(self):\n",
    "        return self.angle2 \n",
    "    def getAngle3(self):\n",
    "        return self.angle3 \n",
    "\n",
    "  \n",
    "    def getAngle1(self, angle1):\n",
    "        self.angle1 = angle1\n",
    "    def getAngle2(self, angle2):\n",
    "        self.angle2 = angle2\n",
    "    def getAngle3(self, angle3):\n",
    "        self.angle3 = angle3\n",
    "\n",
    "    def checkAngles():\n",
    "        num = self.angle1 + self.angle2 + self.angle3\n",
    "        if num == 180:\n",
    "            return True"
   ]
  },
  {
   "cell_type": "code",
   "execution_count": 1,
   "id": "ca4aabb9-34d3-4998-b547-31bf434e7c73",
   "metadata": {},
   "outputs": [],
   "source": [
    "from tkinter import * # tkinter 모듈을 포함\n",
    "window = Tk() # 루트 윈도우를 생성\n",
    "\n",
    "label = Label(window, text=\"Hello tkinter\") # 레이블 위젯을 생성\n",
    "label.pack() # 레이블 위젯을 윈도우에 배치\n",
    "\n",
    "window.mainloop() "
   ]
  },
  {
   "cell_type": "code",
   "execution_count": 3,
   "id": "b04ebfe8-8c5a-43db-b141-dcce2d98df9e",
   "metadata": {},
   "outputs": [],
   "source": [
    "from tkinter import *\n",
    "window = Tk()\n",
    "\n",
    "button = Button(window, text = \"클릭하세요\",\n",
    "bg=\"yellow\", fg=\"blue\", # 전경색과 배경색 설정\n",
    " width=80, height=2 # 크기 설정\n",
    ")\n",
    "\n",
    "button.pack()\n",
    "window.mainloop()"
   ]
  },
  {
   "cell_type": "code",
   "execution_count": 11,
   "id": "b56cefbe-1734-48f6-b327-e67e4b4e71e4",
   "metadata": {},
   "outputs": [],
   "source": [
    "from tkinter import *\n",
    "window = Tk()\n",
    "window.geometry(\"600x600\")\n",
    "\n",
    "entry = Entry(window, fg=\"black\", bg=\"yellow\", width=80)\n",
    "entry.pack()\n",
    "window.mainloop()"
   ]
  },
  {
   "cell_type": "code",
   "execution_count": 12,
   "id": "dbd817b8-49f2-4cc9-88ea-2c41c5e984bc",
   "metadata": {},
   "outputs": [],
   "source": [
    "from tkinter import *\n",
    "window = Tk()\n",
    "\n",
    "Label(window , text=\"화씨\").grid(row=0, column=0)\n",
    "Label(window, text=\"섭씨\").grid(row=1, column=0)\n",
    "\n",
    "e1 = Entry(window).grid(row=0, column=1)\n",
    "e2 = Entry(window).grid(row=1, column=1)\n",
    "                       \n",
    "Button(window, text=\"화씨->섭씨\").grid(row=2, column=1)\n",
    "window.mainloop()"
   ]
  },
  {
   "cell_type": "code",
   "execution_count": 14,
   "id": "ba64edc0-3740-4f31-bee5-5a8200a572c0",
   "metadata": {},
   "outputs": [],
   "source": [
    "from tkinter import *\n",
    "window = Tk()\n",
    "Label(window, text=\"너비\").grid(row=0)\n",
    "Label(window, text=\"높이\").grid(row=1)\n",
    "e1 = Entry(window)\n",
    "e2 = Entry(window)\n",
    "e1.grid(row=0, column=1)\n",
    "e2.grid(row=1, column=1)\n",
    "label = Label(window, text=\"photo\")\n",
    "label.grid(row=0, column=2, columnspan=2, rowspan=2)\n",
    "Button(window, text='이미지 저장').grid(row=2, column=0, columnspan=2)\n",
    "# 두 번째 버튼과 세 번째 버튼은 2열과 3열에 표시한다. \n",
    "Button(window, text='확대').grid(row=2, column=2)\n",
    "Button(window, text='축소').grid(row=2, column=3)\n",
    "window.mainloop( )"
   ]
  },
  {
   "cell_type": "code",
   "execution_count": 16,
   "id": "8859ae02-ab9f-4bb5-adab-ea27ef27d4f3",
   "metadata": {},
   "outputs": [
    {
     "name": "stdout",
     "output_type": "stream",
     "text": [
      "버튼이 클릭되었습니다.\n",
      "버튼이 클릭되었습니다.\n",
      "버튼이 클릭되었습니다.\n",
      "버튼이 클릭되었습니다.\n"
     ]
    }
   ],
   "source": [
    "from tkinter import *\n",
    "\n",
    "def process():\n",
    "    print(\"버튼이 클릭되었습니다.\")\n",
    "\n",
    "window = Tk()\n",
    "button = Button(window, text=\"클릭하세요!\", command=process)\n",
    "button.pack()\n",
    "\n",
    "window.mainloop()"
   ]
  },
  {
   "cell_type": "code",
   "execution_count": 21,
   "id": "98aaf6dd-da9f-47a9-9c14-5c11694d8f52",
   "metadata": {},
   "outputs": [
    {
     "name": "stdout",
     "output_type": "stream",
     "text": [
      "62 75 에서 마우스 이벤트 발생\n",
      "57 28 에서 마우스 이벤트 발생\n"
     ]
    }
   ],
   "source": [
    "from tkinter import *\n",
    "window = Tk()\n",
    "\n",
    "def key(event):\n",
    "    print ( repr(event.char), \"가 눌렸습니다. \")\n",
    "    \n",
    "def callback(event):\n",
    "    frame.focus_set()\n",
    "    print(event.x, event.y, \"에서 마우스 이벤트 발생\")\n",
    "\n",
    "frame = Frame(window, width=100, height=100)\n",
    "frame.bind(\"<Key>\", key)\n",
    "frame.bind(\"<Button-1>\", callback)\n",
    "frame.pack()\n",
    "\n",
    "window.mainloop()"
   ]
  },
  {
   "cell_type": "code",
   "execution_count": 19,
   "id": "484108cf-d7f5-4ee0-8ab4-fee20768477e",
   "metadata": {},
   "outputs": [],
   "source": [
    "from tkinter import *\n",
    "\n",
    "window = Tk()\n",
    "window.title(\"My Calculator\")\n",
    "display = Entry(window, width=33,bg=\"skyblue\")\n",
    "display.grid(row=0, column=0, columnspan=5)\n",
    "\n",
    "button_list = [\n",
    "'7','8','9','/','C',\n",
    "'4','5','6','*',' ',\n",
    "'1','2','3','-',' ',\n",
    "'0','.','=','+',' ']\n",
    "\n",
    "def click(key):\n",
    "    if key == \"=\":\n",
    "        result = eval(display.get())\n",
    "        s = str(result)\n",
    "        display.insert(END,\"=\" + s)\n",
    "    elif key == \"C\":\n",
    "        display.delete(0, END)\n",
    "    else:\n",
    "        display.insert(END, key)\n",
    "\n",
    "row_index = 1\n",
    "col_index = 0\n",
    "for button_text in button_list:\n",
    "    Button(window, text=button_text, width=5,\n",
    "           command=lambda t=button_text: click(t), bg = \"yellow\").grid(row=row_index, column=col_index)\n",
    "    col_index += 1\n",
    "    if col_index > 4:\n",
    "        row_index += 1\n",
    "        col_index = 0\n",
    "\n",
    "window.mainloop()"
   ]
  },
  {
   "cell_type": "code",
   "execution_count": 18,
   "id": "ced1a16a-a55b-42c4-ac02-2723ecb4755f",
   "metadata": {},
   "outputs": [],
   "source": [
    "from tkinter import *\n",
    "from tkinter.colorchooser import askcolor\n",
    "\n",
    "DEFAULT_PEN_SIZE = 1.0\n",
    "DEFAULT_COLOR = \"black\"\n",
    "\n",
    "mode = \"pen\"\n",
    "old_x = None\n",
    "old_y = None\n",
    "mycolor = DEFAULT_COLOR\n",
    "erase_on = False\n",
    "\n",
    "def Use_pen():\n",
    "    global mode\n",
    "    mode = \"pen\"\n",
    "\n",
    "def use_brush():\n",
    "    global mode\n",
    "    mode = \"brush\"\n",
    "\n",
    "def choose_color():\n",
    "    global mycolor\n",
    "    mycolor = askcolor(color=mycolor)[1]\n",
    "\n",
    "def use_erase():\n",
    "    global mode\n",
    "    mode = \"erase\"\n",
    "\n",
    "def paint(event):\n",
    "    global var, erase_on, mode, old_x, old_y"
   ]
  },
  {
   "cell_type": "code",
   "execution_count": 2,
   "id": "e27b6c16-db9c-4b64-9649-0e8cf13cfd4c",
   "metadata": {},
   "outputs": [
    {
     "ename": "SyntaxError",
     "evalue": "(unicode error) 'unicodeescape' codec can't decode bytes in position 2-3: truncated \\UXXXXXXXX escape (4124142116.py, line 1)",
     "output_type": "error",
     "traceback": [
      "\u001b[1;36m  Cell \u001b[1;32mIn[2], line 1\u001b[1;36m\u001b[0m\n\u001b[1;33m    infile = open(\"C:\\Users\\82104\\OneDrive\\바탕 화면\\input\", \"r\")\u001b[0m\n\u001b[1;37m                                                       ^\u001b[0m\n\u001b[1;31mSyntaxError\u001b[0m\u001b[1;31m:\u001b[0m (unicode error) 'unicodeescape' codec can't decode bytes in position 2-3: truncated \\UXXXXXXXX escape\n"
     ]
    }
   ],
   "source": [
    "infile = open(\"C:\\Users\\82104\\OneDrive\\바탕 화면\\input\", \"r\")\n",
    "line = infile.readline()\n",
    "while line != \"\" :\n",
    "print(line)\n",
    "line = infile.readline()"
   ]
  },
  {
   "cell_type": "code",
   "execution_count": 9,
   "id": "326c2721-2590-472e-8898-7583b0370fc4",
   "metadata": {},
   "outputs": [
    {
     "data": {
      "text/plain": [
       "16"
      ]
     },
     "execution_count": 9,
     "metadata": {},
     "output_type": "execute_result"
    }
   ],
   "source": [
    "i = -20\n",
    "abs(i)\n",
    "list = [0,2,3,4]\n",
    "all(list)\n",
    "x = 10\n",
    "eval('x**2')\n",
    "sum([1,2,3],10)"
   ]
  },
  {
   "cell_type": "code",
   "execution_count": 7,
   "id": "b6f0942d-82e5-47a1-b91d-59aabc5357f1",
   "metadata": {},
   "outputs": [
    {
     "name": "stdin",
     "output_type": "stream",
     "text": [
      "파이썬 수식을 입력하시오:  2**10\n"
     ]
    },
    {
     "data": {
      "text/plain": [
       "1024"
      ]
     },
     "execution_count": 7,
     "metadata": {},
     "output_type": "execute_result"
    }
   ],
   "source": [
    "exp = input(\"파이썬 수식을 입력하시오: \")\n",
    "eval(exp)"
   ]
  },
  {
   "cell_type": "code",
   "execution_count": 1,
   "id": "060ed96f-f86b-4c1d-bffe-02ad1f627d69",
   "metadata": {},
   "outputs": [
    {
     "name": "stdout",
     "output_type": "stream",
     "text": [
      "[4, 5, 6]\n"
     ]
    }
   ],
   "source": [
    "def myfilter(x):\n",
    "    return x > 3\n",
    "\n",
    "result = filter(myfilter, (1,2,3,4,5,6))\n",
    "print(list(result))"
   ]
  },
  {
   "cell_type": "code",
   "execution_count": 2,
   "id": "8bc72b55-36b2-4665-9ebf-b3c5746160f5",
   "metadata": {},
   "outputs": [
    {
     "name": "stdout",
     "output_type": "stream",
     "text": [
      "[1, 4, 9, 16, 25]\n"
     ]
    }
   ],
   "source": [
    "def square(n):\n",
    "    return n*n\n",
    "\n",
    "mylist = [1,2,3,4,5]\n",
    "result = list(map(square,mylist))\n",
    "print(result)"
   ]
  },
  {
   "cell_type": "code",
   "execution_count": 5,
   "id": "af22e20c-2f78-4e4d-b820-f6849d9c0037",
   "metadata": {},
   "outputs": [
    {
     "data": {
      "text/plain": [
       "[1, 2, 3, 4, 6]"
      ]
     },
     "execution_count": 5,
     "metadata": {},
     "output_type": "execute_result"
    }
   ],
   "source": [
    "sorted([4,3,2,5,1])\n",
    "mylist = [4,2,3,6,1]\n",
    "mylist.sort()\n",
    "mylist"
   ]
  },
  {
   "cell_type": "code",
   "execution_count": 7,
   "id": "2c447b83-ca8c-45f8-90a7-eef76e7af5b2",
   "metadata": {},
   "outputs": [
    {
     "name": "stdout",
     "output_type": "stream",
     "text": [
      "[('김철수', 3.0, 20160302), ('홍길동', 3.9, 20160303), ('최자영', 4.3, 20160301)]\n"
     ]
    }
   ],
   "source": [
    "students = [\n",
    "('홍길동', 3.9, 20160303),\n",
    "('김철수', 3.0, 20160302),\n",
    "('최자영', 4.3, 20160301),\n",
    "]\n",
    "print(sorted(students, key=lambda student: student[1]))"
   ]
  },
  {
   "cell_type": "code",
   "execution_count": 10,
   "id": "81ec9fa4-8f54-4ca7-8fc2-6d5274114cc4",
   "metadata": {},
   "outputs": [
    {
     "name": "stdout",
     "output_type": "stream",
     "text": [
      "[(1, 200), (3, 100), (6, 400), (7, 300)]\n"
     ]
    }
   ],
   "source": [
    "data = [(3, 100), (1, 200), (7, 300), (6, 400)]\n",
    "mylist = list(sorted(data, key=lambda item: item[0]))\n",
    "print(mylist)"
   ]
  },
  {
   "cell_type": "code",
   "execution_count": 1,
   "id": "6a8cf6df-4a34-459f-b290-4e25013f8cd4",
   "metadata": {},
   "outputs": [
    {
     "name": "stdout",
     "output_type": "stream",
     "text": [
      "[<이름: 홍길동, 나이: 20>, <이름: 김철수, 나이: 35>, <이름: 최자영, 나이: 38>]\n"
     ]
    }
   ],
   "source": [
    "class Person(object):\n",
    "     def __init__(self, name, age):\n",
    "         self.name = name\n",
    "         self.age = age\n",
    "     def __repr__(self):\n",
    "         return \"<이름: %s, 나이: %s>\" % (self.name, self.age)\n",
    "def keyAge(person):\n",
    "        return person.age\n",
    "people = [Person(\"홍길동\", 20), Person(\"김철수\", 35), Person(\"최자영\", 38)]\n",
    "print(sorted(people, key = keyAge))"
   ]
  },
  {
   "cell_type": "code",
   "execution_count": 2,
   "id": "51ee596c-b4a7-4128-b055-dcdbac6a8ff6",
   "metadata": {},
   "outputs": [
    {
     "name": "stdout",
     "output_type": "stream",
     "text": [
      "[-17.77777777777778, -12.222222222222223, -6.666666666666667, -1.1111111111111112, 4.444444444444445, 10.0]\n"
     ]
    }
   ],
   "source": [
    "f_temp = [0, 10, 20, 30, 40, 50]\n",
    "c_temp = map(lambda x: (5.0/9.0)*(x-32.0), f_temp)\n",
    "print(list(c_temp))"
   ]
  },
  {
   "cell_type": "code",
   "execution_count": 4,
   "id": "1cb91285-a14e-484a-93e7-4b7463902144",
   "metadata": {},
   "outputs": [
    {
     "name": "stdout",
     "output_type": "stream",
     "text": [
      "[('1', 600000), ('2', 144000), ('3', 150000), ('4', 1800000)]\n"
     ]
    }
   ],
   "source": [
    "orders = [ [\"1\", \"재킷\", 5, 120000], \n",
    "         [\"2\", \"셔츠\", 6, 24000], \n",
    "         [\"3\", \"바지\", 3, 50000],\n",
    "         [\"4\", \"코트\", 6, 300000] ]\n",
    "result = list(map(lambda x: (x[0], x[2] * x[3]), orders))\n",
    "print(result)"
   ]
  },
  {
   "cell_type": "code",
   "execution_count": 7,
   "id": "d604c3e8-a66f-4494-969e-496e6bd4a3f7",
   "metadata": {},
   "outputs": [
    {
     "name": "stdout",
     "output_type": "stream",
     "text": [
      "1 2 3 4 5 6 7 8 9 10 "
     ]
    }
   ],
   "source": [
    "class MyCounter(object):\n",
    "    def __init__(self, low, high):\n",
    "        self.current = low\n",
    "        self.high = high\n",
    "        \n",
    "    def __iter__(self):\n",
    "        return self\n",
    "    def __next__(self):\n",
    "        if self.current > self.high:\n",
    "            raise StopIteration\n",
    "        else:\n",
    "            self.current += 1\n",
    "            return self.current - 1\n",
    "\n",
    "c = MyCounter(1, 10)\n",
    "for i in c:\n",
    "    print(i, end=' ')"
   ]
  },
  {
   "cell_type": "code",
   "execution_count": 10,
   "id": "cc217fe6-b1ec-4c77-8fbe-9c5475c98d21",
   "metadata": {},
   "outputs": [
    {
     "name": "stdout",
     "output_type": "stream",
     "text": [
      "1 1 2 3 5 8 13 21 34 "
     ]
    }
   ],
   "source": [
    "class FibIterator:\n",
    "    def __init__(self, a=1, b=0, maxValue=50):\n",
    "        self.a = a \n",
    "        self.b = b\n",
    "        self.maxValue = maxValue\n",
    "        \n",
    "    def __iter__(self):\n",
    "        return self \n",
    "        \n",
    "    def __next__(self):\n",
    "        n = self.a + self.b\n",
    "        if n > self.maxValue:\n",
    "            raise StopIteration()\n",
    "        self.a = self.b\n",
    "        self.b = n\n",
    "        return n\n",
    "        \n",
    "for i in FibIterator():\n",
    "    print(i, end=\" \")"
   ]
  },
  {
   "cell_type": "code",
   "execution_count": 5,
   "id": "881c492f-cd5f-4208-993c-f2cdd44d73f3",
   "metadata": {},
   "outputs": [
    {
     "name": "stdin",
     "output_type": "stream",
     "text": [
      "정수나 실수를 입력하시오:  10.2\n"
     ]
    },
    {
     "name": "stdout",
     "output_type": "stream",
     "text": [
      "10.2\n"
     ]
    }
   ],
   "source": [
    "# p543 programming 2번\n",
    "\n",
    "a = input(\"정수나 실수를 입력하시오: \")\n",
    "print(eval(a))\n"
   ]
  },
  {
   "cell_type": "code",
   "execution_count": 19,
   "id": "ed414809-342a-408f-ab8e-aec5eab08a60",
   "metadata": {},
   "outputs": [
    {
     "name": "stdout",
     "output_type": "stream",
     "text": [
      "원래 리스트: \n",
      " [1, 2, 3, 4, 5, 6, 7, 8, 9, 10]\n",
      "짝수:\n",
      " [2, 4, 6, 8, 10]\n",
      "홀수:\n",
      " [1, 3, 5, 7, 9]\n"
     ]
    }
   ],
   "source": [
    "# p543 programming 4번\n",
    "\n",
    "numlist = [1,2,3,4,5,6,7,8,9,10]\n",
    "alist = list(filter(lambda x:x%2 ==0, numlist))\n",
    "blist = list(filter(lambda x:x%2 !=0, numlist))\n",
    "\n",
    "print(\"원래 리스트: \\n\", numlist)\n",
    "print(\"짝수:\\n\", alist)\n",
    "print(\"홀수:\\n\", blist)\n"
   ]
  },
  {
   "cell_type": "code",
   "execution_count": 39,
   "id": "5866a8d8-5a1b-4e13-b20e-a0db3f289f2d",
   "metadata": {},
   "outputs": [
    {
     "name": "stdout",
     "output_type": "stream",
     "text": [
      "Overwriting factorial.py\n"
     ]
    }
   ],
   "source": [
    "%%writefile factorial.py\n",
    "\n",
    "def fact(n):\n",
    "    if n < 0:\n",
    "        print(\"error\")\n",
    "    result = 1\n",
    "    for i in range(n,0,-1):\n",
    "        result = result * i\n",
    "    return result"
   ]
  },
  {
   "cell_type": "code",
   "execution_count": 1,
   "id": "602d77e5-9433-450a-969e-5f45516ab4a0",
   "metadata": {},
   "outputs": [
    {
     "name": "stdout",
     "output_type": "stream",
     "text": [
      "120\n"
     ]
    }
   ],
   "source": [
    "# p544 programming 6번\n",
    "\n",
    "import factorial\n",
    "\n",
    "print(factorial.fact(5))  "
   ]
  },
  {
   "cell_type": "code",
   "execution_count": 1,
   "id": "cbc0d0c6-20f5-405a-901a-877f40c631a1",
   "metadata": {},
   "outputs": [
    {
     "name": "stdout",
     "output_type": "stream",
     "text": [
      "1 2 3 4 5 6 7 8 9 10 "
     ]
    }
   ],
   "source": [
    "# p544 programming 8번\n",
    "\n",
    "def Generator(n):\n",
    "    while True:\n",
    "        yield n\n",
    "        n += 1 \n",
    "                \n",
    "for i in Generator(1):\n",
    "    if i < 11:\n",
    "        print(i,end=\" \")\n",
    "    else:\n",
    "        break"
   ]
  },
  {
   "cell_type": "code",
   "execution_count": 7,
   "id": "276674d9-eee4-4211-aff6-00e75cefdbea",
   "metadata": {},
   "outputs": [
    {
     "name": "stdout",
     "output_type": "stream",
     "text": [
      "[4, 16, 36, 64, 100]\n"
     ]
    }
   ],
   "source": [
    "# p544 Programming 10번\n",
    "\n",
    "numlist = [1,2,3,4,5,6,7,8,9,10]\n",
    "alist = list(filter(lambda x:x%2 == 0, numlist))\n",
    "\n",
    "result = list(map(lambda x : x**2, alist))\n",
    "print(result)"
   ]
  },
  {
   "cell_type": "code",
   "execution_count": 10,
   "id": "d0b40ad8-30bb-4ef2-a9c1-7b49e80d0d15",
   "metadata": {},
   "outputs": [
    {
     "name": "stdout",
     "output_type": "stream",
     "text": [
      "c1 > c2: True\n",
      "c1 < c2: False\n",
      "c1+c2 radius: 15\n"
     ]
    }
   ],
   "source": [
    "# p544 Programming 11번\n",
    "\n",
    "class Circle:\n",
    "    def __init__(self, radius):\n",
    "        self.__radius = radius\n",
    "\n",
    "    def getRad(self):\n",
    "        return self.__radius\n",
    "        \n",
    "    def setRad(self, c):\n",
    "        self.__radius = c\n",
    "    \n",
    "    def __add__(self, c):\n",
    "        r = self.__radius + c.getRad()\n",
    "        return Circle(r)\n",
    "\n",
    "    def __gt__(self, c):\n",
    "        return ( self.__radius > c.getRad() )\n",
    "\n",
    "    def __lt__(self, c):\n",
    "        return ( self.__radius < c.getRad() )\n",
    "\n",
    "\n",
    "c1 = Circle(10)\n",
    "c2 = Circle(5)\n",
    "\n",
    "print(\"c1 > c2:\", c1>c2)\n",
    "print(\"c1 < c2:\", c1<c2)\n",
    "print(\"c1+c2 radius:\", (c1+c2).getRad())"
   ]
  },
  {
   "cell_type": "code",
   "execution_count": 27,
   "id": "c5dab75c-a0e3-4ccf-a2e8-a11676ae270b",
   "metadata": {},
   "outputs": [
    {
     "name": "stdout",
     "output_type": "stream",
     "text": [
      "['배', '오렌지', '참외']\n"
     ]
    }
   ],
   "source": [
    "# p544 Programming 12번\n",
    "\n",
    "import random\n",
    "\n",
    "words = [\"사과\", \"배\", \"포도\", \"오렌지\", \"바나나\", \"참외\", \"수박\"]\n",
    "\n",
    "s_words = random.sample(words, 3)\n",
    "print(s_words)"
   ]
  },
  {
   "cell_type": "code",
   "execution_count": 6,
   "id": "92679d49-2ccc-4e6f-a111-3285355b1503",
   "metadata": {},
   "outputs": [
    {
     "ename": "AttributeError",
     "evalue": "'ElectricCar' object has no attribute 'setBatterSize'",
     "output_type": "error",
     "traceback": [
      "\u001b[1;31m---------------------------------------------------------------------------\u001b[0m",
      "\u001b[1;31mAttributeError\u001b[0m                            Traceback (most recent call last)",
      "Cell \u001b[1;32mIn[6], line 29\u001b[0m\n\u001b[0;32m     27\u001b[0m myCar \u001b[38;5;241m=\u001b[39m ElectricCar(\u001b[38;5;124m\"\u001b[39m\u001b[38;5;124mTisla\u001b[39m\u001b[38;5;124m\"\u001b[39m, \u001b[38;5;124m\"\u001b[39m\u001b[38;5;124mModel S\u001b[39m\u001b[38;5;124m\"\u001b[39m, \u001b[38;5;124m\"\u001b[39m\u001b[38;5;124mwhite\u001b[39m\u001b[38;5;124m\"\u001b[39m, \u001b[38;5;241m10000\u001b[39m, \u001b[38;5;241m0\u001b[39m) \u001b[38;5;66;03m#\u001b[39;00m\n\u001b[0;32m     28\u001b[0m myCar\u001b[38;5;241m.\u001b[39msetMake(\u001b[38;5;124m\"\u001b[39m\u001b[38;5;124mTesla\u001b[39m\u001b[38;5;124m\"\u001b[39m) \u001b[38;5;66;03m# 설정자 메소드 호출\u001b[39;00m\n\u001b[1;32m---> 29\u001b[0m myCar\u001b[38;5;241m.\u001b[39msetBatterSize(\u001b[38;5;241m60\u001b[39m) \u001b[38;5;66;03m# 설정자 메소드 호출\u001b[39;00m\n\u001b[0;32m     30\u001b[0m \u001b[38;5;28mprint\u001b[39m(myCar\u001b[38;5;241m.\u001b[39mgetDesc())\n",
      "\u001b[1;31mAttributeError\u001b[0m: 'ElectricCar' object has no attribute 'setBatterSize'"
     ]
    }
   ],
   "source": [
    "class Car:\n",
    "    def __init__(self, make, model, color, price):\n",
    "        self.make = make # 메이커\n",
    "        self.model = model # 모델\n",
    "        self.color = color # 자동차의 색상\n",
    "        self.price = price # 자동차의 가격\n",
    "    def setMake(self, make): # 설정자 메소드\n",
    "        self.make = make\n",
    "    def getMake(self): # 접근자 메소드\n",
    "        return self.make\n",
    "# 차량에 대한 정보를 문자열로 요약하여서 반환한다.\n",
    "    def getDesc(self):\n",
    "        return \"차량 =(\"+str(self.make)+\",\"+\\\n",
    "                 str(self.model)+\",\"+\\\n",
    "                 str(self.color)+\",\"+\\\n",
    "                 str(self.price)+\")\"\n",
    "\n",
    "class ElectricCar(Car) : # ①\n",
    "    def __init__(self, make, model, color, price, batterySize):\n",
    "        super().__init__(make, model, color, price) # ②\n",
    "        self.batterySize = batterySize # ③\n",
    "    def setBatterySize(self, batterySize): # 설정자 메소드\n",
    "        self.batterySize = batterySize\n",
    "    def getBtterySize(self): # 접근자 메소드\n",
    "        return self.batterySize\n",
    "\n",
    "myCar = ElectricCar(\"Tisla\", \"Model S\", \"white\", 10000, 0) #\n",
    "myCar.setMake(\"Tesla\") # 설정자 메소드 호출\n",
    "myCar.setBatterSize(60) # 설정자 메소드 호출\n",
    "print(myCar.getDesc()) # 전기차 객체를 문자열로 출력\n",
    "    "
   ]
  },
  {
   "cell_type": "code",
   "execution_count": 14,
   "id": "8ff96500-6554-4831-bc5b-2288b2921a94",
   "metadata": {},
   "outputs": [
    {
     "name": "stdout",
     "output_type": "stream",
     "text": [
      "Kim 22\n",
      "100036\n",
      "baek 21\n",
      "112346\n"
     ]
    }
   ],
   "source": [
    "class Person: \n",
    " def __init__(self, name, age): \n",
    "\n",
    "     self.name = name \n",
    "     self.age = age \n",
    " \n",
    " def show(self): \n",
    "     print(self.name, self.age) \n",
    " \n",
    "class Student: \n",
    " def __init__(self, id): \n",
    "     self.id = id\n",
    " \n",
    " def getId(self): \n",
    "     return self.id \n",
    " \n",
    "class CollegeStudent(Person, Student): \n",
    " def __init__(self, name, age, id): \n",
    "     Person.__init__(self, name, age) \n",
    "     Student.__init__(self, id) \n",
    " \n",
    "obj = CollegeStudent('Kim', 22, '100036') \n",
    "obj.show() \n",
    "print(obj.getId())\n",
    "\n",
    "objs = CollegeStudent('baek', 21, '112346') \n",
    "objs.show() \n",
    "print(objs.getId())\n"
   ]
  },
  {
   "cell_type": "code",
   "execution_count": 5,
   "id": "90352705-55e9-450a-841c-01c2814b5272",
   "metadata": {},
   "outputs": [
    {
     "name": "stdout",
     "output_type": "stream",
     "text": [
      "원을 그립니다.\n",
      "원의 면적:  314.1592653589793\n"
     ]
    }
   ],
   "source": [
    "#메소드 오버라이딩\n",
    "\n",
    "import math\n",
    "\n",
    "class Shape:\n",
    "    def __init__(self):\n",
    "        pass\n",
    "    def draw(self):\n",
    "        print(\"draw()가 호출됨\")\n",
    "    def get_area(self):\n",
    "        print(\"get_area()가 호출됨\")\n",
    "\n",
    "class Circle(Shape):\n",
    "    def __init__(self, radius=0):\n",
    "        super().__init__()\n",
    "        self.radius = radius\n",
    "    def draw(self):\n",
    "        print(\"원을 그립니다.\")\n",
    "    def get_area(self):\n",
    "        return math.pi *self.radius**2\n",
    "\n",
    "c = Circle(10)\n",
    "c.draw()\n",
    "print(\"원의 면적: \", c.get_area())"
   ]
  },
  {
   "cell_type": "code",
   "execution_count": 7,
   "id": "6c0063ca-b01a-49d1-9080-b86d9be983c6",
   "metadata": {},
   "outputs": [
    {
     "name": "stdout",
     "output_type": "stream",
     "text": [
      "B의 이자율: 10.0\n",
      "N의 이자율: 5.0\n",
      "G의 이자율: 3.0\n"
     ]
    }
   ],
   "source": [
    "#은행 이율 계산하기\n",
    "\n",
    "class Bank():\n",
    "    def getInterestRate(self):\n",
    "        return 0.0\n",
    "\n",
    "class BadBank(Bank):\n",
    "    def getInterestRate(self):\n",
    "        return 10.0;\n",
    "\n",
    "class NormalBank(Bank):\n",
    "    def getInterestRate(self):\n",
    "        return 5.0;\n",
    "\n",
    "class GoodBank(Bank):\n",
    "    def getInterestRate(self):\n",
    "        return 3.0;\n",
    "\n",
    "b1 = BadBank()\n",
    "b2 = NormalBank()\n",
    "b3 = GoodBank()\n",
    "print(\"B의 이자율: \" + str(b1.getInterestRate()))\n",
    "print(\"N의 이자율: \" + str(b2.getInterestRate()))\n",
    "print(\"G의 이자율: \" + str(b3.getInterestRate()))\n"
   ]
  },
  {
   "cell_type": "code",
   "execution_count": 14,
   "id": "7288fc07-820d-4705-891a-6a1d634e008a",
   "metadata": {},
   "outputs": [
    {
     "name": "stdout",
     "output_type": "stream",
     "text": [
      "이름: 철수, 월급: 200000, 보너스: 100000\n"
     ]
    }
   ],
   "source": [
    "#직원과 매니저 오버라이딩\n",
    "\n",
    "class Employee:\n",
    "    def __init__(self, name, salary):\n",
    "        self.name = name\n",
    "        self.salary = salary\n",
    "\n",
    "    def getSalary(self):\n",
    "        return self.salary\n",
    "\n",
    "class Manager(Employee):\n",
    "    def __init__(self, name, salary, bonus):\n",
    "        super().__init__(name, salary)\n",
    "        self.bonus = bonus\n",
    "\n",
    "    def getSalary(self):\n",
    "        salary = super().getSalary()\n",
    "        return salary + self.bonus\n",
    "\n",
    "    def __str__(self):\n",
    "        return \"이름: \" + self.name + \", 월급: \" + str(self.salary) + \", 보너스: \" + str(self.bonus)\n",
    "\n",
    "kim = Manager(\"철수\", 200000, 100000)\n",
    "print(kim)"
   ]
  },
  {
   "cell_type": "code",
   "execution_count": 1,
   "id": "62a24156-a053-4f3d-9f25-0b859fe94b6e",
   "metadata": {},
   "outputs": [
    {
     "name": "stdout",
     "output_type": "stream",
     "text": [
      "314.1592\n",
      "100\n"
     ]
    }
   ],
   "source": [
    "#도형 넓이 구하기 상속의 다형성\n",
    "\n",
    "class Shape:\n",
    "    def __init__(self, name):\n",
    "        self.name = name\n",
    "\n",
    "    def getArea(self):\n",
    "        raise NotImplementedError(\"이것은 추상메소드입니다. \")\n",
    "\n",
    "class Circle(Shape):\n",
    "    def __init__(self, name, radius):\n",
    "        super().__init__(name)\n",
    "        self.radius = radius\n",
    "\n",
    "    def getArea(self):\n",
    "        return 3.141592*self.radius**2\n",
    "\n",
    "class Rectangle(Shape):\n",
    "    def __init__(self, name, width, height):\n",
    "        super().__init__(name)\n",
    "        self.width = width\n",
    "        self.height = height\n",
    "\n",
    "    def getArea(self):\n",
    "        return self.width*self.height\n",
    "\n",
    "shapeList = [Circle(\"c1\", 10), Rectangle(\"r1\", 10, 10)]\n",
    "for s in shapeList:\n",
    "    print(s.getArea())"
   ]
  },
  {
   "cell_type": "code",
   "execution_count": 17,
   "id": "45ffcca3-e0cf-4bdf-aace-3d7c6a56d15f",
   "metadata": {},
   "outputs": [
    {
     "name": "stdout",
     "output_type": "stream",
     "text": [
      "10:25:30\n"
     ]
    }
   ],
   "source": [
    "# __str__ 메소드\n",
    "\n",
    "class Mytime:\n",
    "    def __init__(self, hour, minute, second=0):\n",
    "        self.hour = hour\n",
    "        self.minute= minute\n",
    "        self.second = second\n",
    "\n",
    "    def __str__(self):\n",
    "        return '%.2d:%.2d:%.2d' % (self.hour, self.minute, self.second)\n",
    "\n",
    "time = Mytime(10, 25, 30)\n",
    "print(time) "
   ]
  },
  {
   "cell_type": "code",
   "execution_count": 18,
   "id": "c89ccc30-6c58-4408-bb5f-e1244fe1854d",
   "metadata": {},
   "outputs": [
    {
     "name": "stdout",
     "output_type": "stream",
     "text": [
      "['클럽 에이스', '클럽 2', '클럽 3', '클럽 4', '클럽 5', '클럽 6', '클럽 7', '클럽 8', '클럽 9', '클럽 10', '클럽 잭', '클럽 퀸', '클럽 킹', '다이아몬드 에이스', '다이아몬드 2', '다이아몬드 3', '다이아몬드 4', '다이아몬드 5', '다이아몬드 6', '다이아몬드 7', '다이아몬드 8', '다이아몬드 9', '다이아몬드 10', '다이아몬드 잭', '다이아몬드 퀸', '다이아몬드 킹', '하트 에이스', '하트 2', '하트 3', '하트 4', '하트 5', '하트 6', '하트 7', '하트 8', '하트 9', '하트 10', '하트 잭', '하트 퀸', '하트 킹', '스페이드 에이스', '스페이드 2', '스페이드 3', '스페이드 4', '스페이드 5', '스페이드 6', '스페이드 7', '스페이드 8', '스페이드 9', '스페이드 10', '스페이드 잭', '스페이드 퀸', '스페이드 킹']\n"
     ]
    }
   ],
   "source": [
    "class Card:\n",
    "    suitNames = ['클럽', '다이아몬드', '하트', '스페이드']\n",
    "    rankNames = [None, '에이스', '2', '3', '4', '5', '6', '7', '8', '9', '10', '잭', '퀸', '킹']\n",
    "\n",
    "    def __init__(self, suit, rank):\n",
    "        self.suit = suit\n",
    "        self.rank = rank\n",
    "    def __str__(self):\n",
    "        return Card.suitNames[self.suit]+\" \"+Card.rankNames[self.rank]\n",
    "\n",
    "class Deck:\n",
    "    def __init__(self):\n",
    "        self.cards = []\n",
    "        for suit in range(4):\n",
    "            for rank in range(1, 14):\n",
    "                card = Card(suit, rank)\n",
    "                self.cards.append(card)\n",
    "                \n",
    "    def __str__(self):\n",
    "        lst = [str(card) for card in self.cards]\n",
    "        return str(lst)\n",
    "deck = Deck() # 덱 객체를 생성한다. \n",
    "print(deck)"
   ]
  },
  {
   "cell_type": "code",
   "execution_count": 24,
   "id": "a0756c74-9b13-4c5e-8903-cc78545279e5",
   "metadata": {},
   "outputs": [
    {
     "name": "stdout",
     "output_type": "stream",
     "text": [
      "통장에서  100 가 출금되었음\n",
      "통장에  10 가 입금되었음\n"
     ]
    },
    {
     "data": {
      "text/plain": [
       "90"
      ]
     },
     "execution_count": 24,
     "metadata": {},
     "output_type": "execute_result"
    }
   ],
   "source": [
    "class BankAccount:\n",
    "    def __init__(self):\n",
    "        self.__balance = 0 \n",
    "    def withdraw(self, amount):\n",
    "        self.__balance -= amount\n",
    "        print(\"통장에 \", amount, \"가 입금되었음\")\n",
    "        return self.__balance\n",
    "    def deposit(self, amount):\n",
    "        self.__balance += amount\n",
    "        print(\"통장에서 \", amount, \"가 출금되었음\")\n",
    "        return self.__balance\n",
    "a = BankAccount()\n",
    "a.deposit(100)\n",
    "a.withdraw(10)"
   ]
  },
  {
   "cell_type": "code",
   "execution_count": 27,
   "id": "c4f63f4c-27c8-48ab-8eff-2b35f192cf94",
   "metadata": {},
   "outputs": [
    {
     "name": "stdout",
     "output_type": "stream",
     "text": [
      "(0, 0)\n"
     ]
    }
   ],
   "source": [
    "class Vector2D :\n",
    "    def __init__(self, x, y):\n",
    "        self.x = x\n",
    "        self.y = y\n",
    "    def __add__(self, other):\n",
    "        return Vector2D(self.x + other.x, self.y + other.y)\n",
    "    def __sub__(self, other):\n",
    "        return Vector2D(self.x - other.x, self.y - other.y)\n",
    "    def __eq__(self, other):\n",
    "        return self.x == other.x and self.y == other.y\n",
    "    def __str__(self):\n",
    "        return '(%g, %g)' % (self.x, self.y)\n",
    "u = Vector2D(0,1)\n",
    "v = Vector2D(1,0)\n",
    "w = Vector2D(1,1)\n",
    "a = u + v - w\n",
    "print( a)"
   ]
  },
  {
   "cell_type": "code",
   "execution_count": 31,
   "id": "0a938f2b-4afe-4bd4-9eec-529196e23328",
   "metadata": {},
   "outputs": [
    {
     "name": "stdout",
     "output_type": "stream",
     "text": [
      "주사위의 값= 3\n"
     ]
    }
   ],
   "source": [
    "from random import randint\n",
    "class Dice :\n",
    "    def __init__(self, x, y) :\n",
    "        self._x = x\n",
    "        self._y = y\n",
    "        self._size = 30\n",
    "        self._value = 1\n",
    "    def read_dice(self) :\n",
    "        return self._value\n",
    "    def print_dice(self) :\n",
    "        print(\"주사위의 값=\", self._value)\n",
    "    def roll_dice(self) :\n",
    "        self._value = randint(1, 6)\n",
    "d = Dice(100, 100)\n",
    "d.roll_dice()\n",
    "d.print_dice()"
   ]
  },
  {
   "cell_type": "code",
   "execution_count": 10,
   "id": "540ea89b-660d-4d29-a94e-aba388513125",
   "metadata": {},
   "outputs": [
    {
     "name": "stdout",
     "output_type": "stream",
     "text": [
      "[1, 8, 27, 64, 125, 216, 343, 512, 729, 1000]\n"
     ]
    }
   ],
   "source": [
    "alist = [1,2,3,4,5,6,7,8,9,10]\n",
    "\n",
    "blist = list(map(lambda x : x**3, alist))\n",
    "print(blist)"
   ]
  },
  {
   "cell_type": "code",
   "execution_count": 6,
   "id": "ab0df7d2-6e66-440b-97f5-d5ee552e6590",
   "metadata": {},
   "outputs": [
    {
     "name": "stdout",
     "output_type": "stream",
     "text": [
      "[('최자영', 4.3, 20160301), ('김철수', 3.0, 20160302), ('홍길동', 3.9, 20160303)]\n"
     ]
    }
   ],
   "source": [
    "class Student:\n",
    "    def __init__(self, name, grade, number):\n",
    "        self.name = name\n",
    "        self.grade = grade\n",
    "        self.number = number\n",
    "    def __repr__(self):\n",
    "        return repr((self.name, self.grade, self.number))\n",
    "students = [\n",
    "Student('홍길동', 3.9, 20160303),\n",
    "Student('김철수', 3.0, 20160302),\n",
    "Student('최자영', 4.3, 20160301),\n",
    "]\n",
    "print(sorted(students, key=lambda x:x.number)) "
   ]
  },
  {
   "cell_type": "code",
   "execution_count": 9,
   "id": "e7b5c63f-0b6e-4ce3-b546-70b1d2074307",
   "metadata": {},
   "outputs": [
    {
     "name": "stdout",
     "output_type": "stream",
     "text": [
      "[('자연', 82), ('국어', 88), ('수학', 90), ('영어', 99)]\n"
     ]
    }
   ],
   "source": [
    "list = [('국어', 88), ('수학', 90), ('영어', 99), ('자연', 82)]\n",
    "\n",
    "print(sorted(list, key=lambda x:x[1]))"
   ]
  },
  {
   "cell_type": "code",
   "execution_count": null,
   "id": "0926b32c-6481-4025-bef3-6c2935918d78",
   "metadata": {},
   "outputs": [],
   "source": []
  }
 ],
 "metadata": {
  "kernelspec": {
   "display_name": "Python 3 (ipykernel)",
   "language": "python",
   "name": "python3"
  },
  "language_info": {
   "codemirror_mode": {
    "name": "ipython",
    "version": 3
   },
   "file_extension": ".py",
   "mimetype": "text/x-python",
   "name": "python",
   "nbconvert_exporter": "python",
   "pygments_lexer": "ipython3",
   "version": "3.11.7"
  }
 },
 "nbformat": 4,
 "nbformat_minor": 5
}
